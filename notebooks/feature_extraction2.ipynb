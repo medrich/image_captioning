{
 "cells": [
  {
   "cell_type": "code",
   "execution_count": 1,
   "metadata": {},
   "outputs": [],
   "source": [
    "# functions here are copied from feature_extraction.ipynb because it got too messy\n",
    "# this notebook only serves as a fresh slate for work previously done"
   ]
  },
  {
   "cell_type": "code",
   "execution_count": 3,
   "metadata": {
    "colab": {
     "base_uri": "https://localhost:8080/",
     "height": 84,
     "referenced_widgets": [
      "3edfd257625b45a298209159844e1e57",
      "7663b7dfcbc34960adfc5faa041a1a74",
      "a7770e4c47e74ce3948f068a731be387",
      "aad7329d7dbc49a89f4cb3798c30666a",
      "a7ff3f0d0d5d41c4a272a7f9a07962a5",
      "25a823974281434c9bf302e03c64a902",
      "2d871dad0ca942e39da0305a95df3a99",
      "fad6bacdb90849419356155f5d4d5772",
      "7d7cb34fd03e4cd39eb434a9dfb2c2f5",
      "12d4951db7ff446a815157b318f95ae5",
      "02b99046aa474647890998ad76bba1fa"
     ]
    },
    "executionInfo": {
     "elapsed": 4255,
     "status": "ok",
     "timestamp": 1650290640386,
     "user": {
      "displayName": "Matt Edrich",
      "userId": "05115134804914636834"
     },
     "user_tz": 360
    },
    "id": "tMr0UmrGNfVb",
    "outputId": "943569f3-b4eb-466e-be3b-a64e19ce122f"
   },
   "outputs": [
    {
     "name": "stderr",
     "output_type": "stream",
     "text": [
      "2022-04-18 18:09:46.929505: W tensorflow/stream_executor/platform/default/dso_loader.cc:64] Could not load dynamic library 'libcudart.so.11.0'; dlerror: libcudart.so.11.0: cannot open shared object file: No such file or directory\n",
      "2022-04-18 18:09:46.929524: I tensorflow/stream_executor/cuda/cudart_stub.cc:29] Ignore above cudart dlerror if you do not have a GPU set up on your machine.\n",
      "/tmp/ipykernel_7416/2631900983.py:24: TqdmDeprecationWarning: This function will be removed in tqdm==5.0.0\n",
      "Please use `tqdm.notebook.tqdm` instead of `tqdm.tqdm_notebook`\n",
      "  tqdm().pandas()\n"
     ]
    },
    {
     "data": {
      "application/vnd.jupyter.widget-view+json": {
       "model_id": "6ff38552004745f8acdc6a82d9bd4b97",
       "version_major": 2,
       "version_minor": 0
      },
      "text/plain": [
       "0it [00:00, ?it/s]"
      ]
     },
     "metadata": {},
     "output_type": "display_data"
    }
   ],
   "source": [
    "# imports\n",
    "\n",
    "from keras.applications.xception import Xception, preprocess_input\n",
    "from keras.preprocessing.image import load_img, img_to_array\n",
    "from keras.preprocessing.text import Tokenizer\n",
    "from keras.preprocessing.sequence import pad_sequences\n",
    "from tensorflow.keras.utils import to_categorical, plot_model\n",
    "from keras.layers.merge import add\n",
    "from keras.models import Model, load_model\n",
    "from keras.layers import Input, Dense, LSTM, Embedding, Dropout\n",
    "from keras.preprocessing.text import Tokenizer\n",
    "from tensorflow.keras.applications.vgg16 import VGG16\n",
    "from tensorflow.keras.applications.vgg16 import preprocess_input\n",
    "import os\n",
    "from pickle import dump, load\n",
    "import numpy as np\n",
    "import pandas as pd\n",
    "from PIL import Image\n",
    "import numpy as np\n",
    "import matplotlib.pyplot as plt\n",
    "import argparse\n",
    "\n",
    "from tqdm import tqdm_notebook as tqdm\n",
    "tqdm().pandas()"
   ]
  },
  {
   "cell_type": "code",
   "execution_count": 4,
   "metadata": {
    "colab": {
     "base_uri": "https://localhost:8080/"
    },
    "executionInfo": {
     "elapsed": 951,
     "status": "ok",
     "timestamp": 1650290641334,
     "user": {
      "displayName": "Matt Edrich",
      "userId": "05115134804914636834"
     },
     "user_tz": 360
    },
    "id": "T_Rnaul_OAt3",
    "outputId": "96438a81-79c7-4af6-d635-c0f154ac2d93"
   },
   "outputs": [
    {
     "data": {
      "text/plain": [
       "'/home/mattiboi/Desktop/Data Science/Metis/Deep Learning/project'"
      ]
     },
     "execution_count": 4,
     "metadata": {},
     "output_type": "execute_result"
    }
   ],
   "source": [
    "pwd"
   ]
  },
  {
   "cell_type": "code",
   "execution_count": 28,
   "metadata": {
    "executionInfo": {
     "elapsed": 1993,
     "status": "ok",
     "timestamp": 1650290643325,
     "user": {
      "displayName": "Matt Edrich",
      "userId": "05115134804914636834"
     },
     "user_tz": 360
    },
    "id": "i3jlHxvXOB5l"
   },
   "outputs": [],
   "source": [
    "training_features = load(open('data/features.p', 'rb'))\n",
    "validation_features = load(open('data/val_features.p', 'rb'))\n",
    "img_names_text = 'img_names.txt'\n",
    "val_img_names_text = 'val_img_names.txt'"
   ]
  },
  {
   "cell_type": "code",
   "execution_count": 57,
   "metadata": {
    "executionInfo": {
     "elapsed": 2,
     "status": "ok",
     "timestamp": 1650290643326,
     "user": {
      "displayName": "Matt Edrich",
      "userId": "05115134804914636834"
     },
     "user_tz": 360
    },
    "id": "Ll57Kv4oOYLk"
   },
   "outputs": [],
   "source": [
    "# load img_names.txt\n",
    "\n",
    "def get_image_names(filepath):\n",
    "    file = load_doc(filepath)\n",
    "    imgs = file.split(',')[:-1]\n",
    "\n",
    "    output = []\n",
    "\n",
    "    for f in imgs:\n",
    "        path = ''\n",
    "        path = f[2:len(f)-1]\n",
    "        output.append(path)\n",
    "\n",
    "    return output\n",
    "\n",
    "#load the clean descriptions\n",
    "\n",
    "def get_clean_descriptions(filepath, images):\n",
    "    #load the cleaned up descriptions\n",
    "    file = load_doc(filepath)\n",
    "    descriptions = {}\n",
    "\n",
    "    for line in file.split('\\n'):\n",
    "    \n",
    "        words = line.split()\n",
    "        if len(words) < 1:\n",
    "            continue\n",
    "    \n",
    "        image, caption = words[0], words[1:]\n",
    "\n",
    "        if image in images:\n",
    "            if image not in descriptions:\n",
    "                descriptions[image] = []\n",
    "\n",
    "            desc = '<start> ' + \" \".join(caption) + ' <end>'\n",
    "            descriptions[image].append(desc)\n",
    "\n",
    "    return descriptions\n",
    "\n",
    "#load the features\n",
    "\n",
    "def load_features(imgs):\n",
    "    #load all the features!\n",
    "    all_features = load(open('data/features.p', 'rb'))\n",
    "\n",
    "    #then get only the needed features\n",
    "    features = {k:all_features[k] for k in imgs}\n",
    "    return features\n",
    "\n",
    "# function to load text file into memory\n",
    "\n",
    "def load_doc(filepath):\n",
    "    #open a file as read only\n",
    "    file = open(filepath, 'r')\n",
    "    text = file.read()\n",
    "    file.close()\n",
    "    return text    \n",
    "\n",
    "# convert dict to clean list of captions\n",
    "\n",
    "def d_to_l(desc):\n",
    "    corpus = []\n",
    "\n",
    "    for k in desc.keys():\n",
    "        [corpus.append(text) for text in desc[k]]\n",
    "\n",
    "    return corpus\n",
    "\n",
    "def create_tokenizer(desc):\n",
    "    corpus = d_to_l(desc)\n",
    "\n",
    "    tokenizer = Tokenizer()\n",
    "    tokenizer.fit_on_texts(corpus)\n",
    "\n",
    "    return tokenizer, max(len(text.split()) for text in corpus)"
   ]
  },
  {
   "cell_type": "code",
   "execution_count": 47,
   "metadata": {
    "executionInfo": {
     "elapsed": 2,
     "status": "ok",
     "timestamp": 1650290643326,
     "user": {
      "displayName": "Matt Edrich",
      "userId": "05115134804914636834"
     },
     "user_tz": 360
    },
    "id": "v9PCRpB0O7MZ"
   },
   "outputs": [],
   "source": [
    "train_imgs = get_image_names(img_names_text)\n",
    "val_imgs = get_image_names(val_img_names_text)"
   ]
  },
  {
   "cell_type": "code",
   "execution_count": 48,
   "metadata": {},
   "outputs": [
    {
     "data": {
      "text/plain": [
       "'VizWiz_train_00000000.jpg'"
      ]
     },
     "execution_count": 48,
     "metadata": {},
     "output_type": "execute_result"
    }
   ],
   "source": [
    "train_imgs[0]"
   ]
  },
  {
   "cell_type": "code",
   "execution_count": 50,
   "metadata": {
    "executionInfo": {
     "elapsed": 2,
     "status": "ok",
     "timestamp": 1650290643478,
     "user": {
      "displayName": "Matt Edrich",
      "userId": "05115134804914636834"
     },
     "user_tz": 360
    },
    "id": "WIgmab_pQB_Y"
   },
   "outputs": [
    {
     "data": {
      "text/plain": [
       "31179"
      ]
     },
     "execution_count": 50,
     "metadata": {},
     "output_type": "execute_result"
    }
   ],
   "source": [
    "all_img_names = train_imgs + val_imgs\n",
    "\n",
    "len(all_img_names)"
   ]
  },
  {
   "cell_type": "code",
   "execution_count": 58,
   "metadata": {
    "executionInfo": {
     "elapsed": 42119,
     "status": "ok",
     "timestamp": 1650290685595,
     "user": {
      "displayName": "Matt Edrich",
      "userId": "05115134804914636834"
     },
     "user_tz": 360
    },
    "id": "rY3bLvkxQsLP"
   },
   "outputs": [],
   "source": [
    "train_descriptions = get_clean_descriptions('images_with_associated_captions.txt', train_imgs)\n",
    "val_descriptions = get_clean_descriptions('val_imgs_w_caps.txt', val_imgs)"
   ]
  },
  {
   "cell_type": "code",
   "execution_count": 59,
   "metadata": {
    "colab": {
     "base_uri": "https://localhost:8080/"
    },
    "executionInfo": {
     "elapsed": 12,
     "status": "ok",
     "timestamp": 1650290685595,
     "user": {
      "displayName": "Matt Edrich",
      "userId": "05115134804914636834"
     },
     "user_tz": 360
    },
    "id": "9xsf4GqAU2qC",
    "outputId": "a5b98645-332b-443c-b1ae-fc6334e4a3ec"
   },
   "outputs": [
    {
     "data": {
      "text/plain": [
       "31179"
      ]
     },
     "execution_count": 59,
     "metadata": {},
     "output_type": "execute_result"
    }
   ],
   "source": [
    "all_descriptions = {**train_descriptions, **val_descriptions}\n",
    "len(all_descriptions)"
   ]
  },
  {
   "cell_type": "code",
   "execution_count": 60,
   "metadata": {
    "colab": {
     "base_uri": "https://localhost:8080/"
    },
    "executionInfo": {
     "elapsed": 11,
     "status": "ok",
     "timestamp": 1650290685596,
     "user": {
      "displayName": "Matt Edrich",
      "userId": "05115134804914636834"
     },
     "user_tz": 360
    },
    "id": "jkEt5bwA9Mzq",
    "outputId": "a4320a1c-2187-418f-d5e3-2f9ca283e328"
   },
   "outputs": [],
   "source": [
    "#len(val_descriptions)"
   ]
  },
  {
   "cell_type": "code",
   "execution_count": 61,
   "metadata": {
    "executionInfo": {
     "elapsed": 2941,
     "status": "ok",
     "timestamp": 1650290688527,
     "user": {
      "displayName": "Matt Edrich",
      "userId": "05115134804914636834"
     },
     "user_tz": 360
    },
    "id": "qUD_dfWUVFkE"
   },
   "outputs": [],
   "source": [
    "tokenizer = create_tokenizer(all_descriptions)\n",
    "\n",
    "tokens = tokenizer[0]\n",
    "longest_caption = tokenizer[1]"
   ]
  },
  {
   "cell_type": "code",
   "execution_count": 62,
   "metadata": {
    "executionInfo": {
     "elapsed": 28,
     "status": "ok",
     "timestamp": 1650290688530,
     "user": {
      "displayName": "Matt Edrich",
      "userId": "05115134804914636834"
     },
     "user_tz": 360
    },
    "id": "TfhnwwMTVhxx"
   },
   "outputs": [],
   "source": [
    "lex_count = len(tokens.word_index)+1"
   ]
  },
  {
   "cell_type": "code",
   "execution_count": 63,
   "metadata": {
    "colab": {
     "base_uri": "https://localhost:8080/"
    },
    "executionInfo": {
     "elapsed": 25,
     "status": "ok",
     "timestamp": 1650290688531,
     "user": {
      "displayName": "Matt Edrich",
      "userId": "05115134804914636834"
     },
     "user_tz": 360
    },
    "id": "bD15iBw0VlDP",
    "outputId": "bc39ca31-27a0-4a04-b888-c8e9d20da7d1"
   },
   "outputs": [
    {
     "data": {
      "text/plain": [
       "(20468, 155)"
      ]
     },
     "execution_count": 63,
     "metadata": {},
     "output_type": "execute_result"
    }
   ],
   "source": [
    "lex_count, longest_caption"
   ]
  },
  {
   "cell_type": "code",
   "execution_count": 64,
   "metadata": {
    "executionInfo": {
     "elapsed": 22,
     "status": "ok",
     "timestamp": 1650290688533,
     "user": {
      "displayName": "Matt Edrich",
      "userId": "05115134804914636834"
     },
     "user_tz": 360
    },
    "id": "0ao9zKaLVoEW"
   },
   "outputs": [],
   "source": [
    "# create i/o sequence pairs from the iamge description\n",
    "\n",
    "def data_generator(captions, features, tokenizer, longest):\n",
    "    while 1:\n",
    "        for k, cap_list in captions.items():\n",
    "            #retrieve photo features\n",
    "            feature = features[k][0]\n",
    "            img_in, seq, word_out = make_seq(tokenizer, longest, cap_list, feature)\n",
    "\n",
    "            yield [[img_in, seq], word_out]\n",
    "\n",
    "def make_seq(tokenizer, longest, cap_list, feature):\n",
    "    X1, X2, y = [], [], []\n",
    "\n",
    "    #iterate through each caption for a given image\n",
    "    for cap in cap_list:\n",
    "        #encode the sequence\n",
    "        seq = tokenizer.texts_to_sequences([cap])[0]\n",
    "\n",
    "        #split one sequence into multiple X,y pairs\n",
    "        for i in range(1, len(seq)):\n",
    "            #split into i/o pair\n",
    "            in_seq, out_seq = seq[:i], seq[i]\n",
    "            #pad input\n",
    "            in_seq = pad_sequences([in_seq], maxlen=longest)[0]\n",
    "            #encode output\n",
    "            out_seq = to_categorical([out_seq], num_classes=lex_count)[0]\n",
    "\n",
    "            #store\n",
    "            X1.append(feature)\n",
    "            X2.append(in_seq)\n",
    "            y.append(out_seq)\n",
    "\n",
    "    return np.array(X1), np.array(X2), np.array(y) "
   ]
  },
  {
   "cell_type": "code",
   "execution_count": 65,
   "metadata": {
    "executionInfo": {
     "elapsed": 22,
     "status": "ok",
     "timestamp": 1650290688534,
     "user": {
      "displayName": "Matt Edrich",
      "userId": "05115134804914636834"
     },
     "user_tz": 360
    },
    "id": "VgbAyVoDVtib"
   },
   "outputs": [],
   "source": [
    "# captioning model\n",
    "\n",
    "def setup(lex_count, longest_caption):\n",
    "  \n",
    "    #compress number of features from cnn\n",
    "    cnn_feats = Input(shape=(2048,))\n",
    "    features_1 = Dropout(0.5)(cnn_feats)\n",
    "    features_2 = Dense(256, activation='relu')(features_1)\n",
    "\n",
    "    #lstm sequence model\n",
    "    lstm_in = Input(shape=(longest_caption,))\n",
    "    seq_1 = Embedding(lex_count, 256, mask_zero=True)(lstm_in)\n",
    "    seq_2 = Dropout(0.5)(seq_1)\n",
    "    seq_33 = LSTM(256)(seq_2)\n",
    "\n",
    "    #merge the models\n",
    "    decode_1 = add([features_2, seq_3])\n",
    "    decode_2 = Dense(256, activation='relu')(decode_1)\n",
    "    outputs = Dense(lex_count, activation='softmax')(decode_2)\n",
    "\n",
    "    #model it all\n",
    "    model = Model(inputs=[cnn_feats, lstm_in], outputs=outputs)\n",
    "    model.compile(loss='categorical_crossentropy', optimizer='adam', metrics=['accuracy'])\n",
    "\n",
    "    #summarize\n",
    "    print(model.summary())\n",
    "    plot_model(model, to_file='model.png', show_shapes=True)\n",
    "\n",
    "    return model"
   ]
  },
  {
   "cell_type": "code",
   "execution_count": 66,
   "metadata": {
    "executionInfo": {
     "elapsed": 23,
     "status": "ok",
     "timestamp": 1650290688536,
     "user": {
      "displayName": "Matt Edrich",
      "userId": "05115134804914636834"
     },
     "user_tz": 360
    },
    "id": "oScWJxsuWQjy"
   },
   "outputs": [],
   "source": [
    "all_features = {**training_features, **validation_features}"
   ]
  },
  {
   "cell_type": "code",
   "execution_count": 67,
   "metadata": {
    "colab": {
     "base_uri": "https://localhost:8080/"
    },
    "executionInfo": {
     "elapsed": 1436,
     "status": "ok",
     "timestamp": 1650290689951,
     "user": {
      "displayName": "Matt Edrich",
      "userId": "05115134804914636834"
     },
     "user_tz": 360
    },
    "id": "TXsKC77MV03z",
    "outputId": "bf2af7a8-59ae-4fd1-df23-7f2a2ac0d9c8"
   },
   "outputs": [
    {
     "name": "stdout",
     "output_type": "stream",
     "text": [
      "The training dataset has 31179 images in it.\n",
      "There are 31179 associated captions; 5 for each image.\n",
      "31192 features were extracted.\n",
      "There are 20468 unique words.\n",
      "The longest caption is 155 characters long.\n"
     ]
    },
    {
     "name": "stderr",
     "output_type": "stream",
     "text": [
      "2022-04-18 18:28:25.386242: W tensorflow/stream_executor/platform/default/dso_loader.cc:64] Could not load dynamic library 'libcuda.so.1'; dlerror: libcuda.so.1: cannot open shared object file: No such file or directory\n",
      "2022-04-18 18:28:25.386271: W tensorflow/stream_executor/cuda/cuda_driver.cc:269] failed call to cuInit: UNKNOWN ERROR (303)\n",
      "2022-04-18 18:28:25.386287: I tensorflow/stream_executor/cuda/cuda_diagnostics.cc:156] kernel driver does not appear to be running on this host (shpatzenbook): /proc/driver/nvidia/version does not exist\n",
      "2022-04-18 18:28:25.386894: I tensorflow/core/platform/cpu_feature_guard.cc:151] This TensorFlow binary is optimized with oneAPI Deep Neural Network Library (oneDNN) to use the following CPU instructions in performance-critical operations:  AVX2 AVX512F FMA\n",
      "To enable them in other operations, rebuild TensorFlow with the appropriate compiler flags.\n"
     ]
    },
    {
     "name": "stdout",
     "output_type": "stream",
     "text": [
      "Model: \"model\"\n",
      "__________________________________________________________________________________________________\n",
      " Layer (type)                   Output Shape         Param #     Connected to                     \n",
      "==================================================================================================\n",
      " input_2 (InputLayer)           [(None, 155)]        0           []                               \n",
      "                                                                                                  \n",
      " input_1 (InputLayer)           [(None, 2048)]       0           []                               \n",
      "                                                                                                  \n",
      " embedding (Embedding)          (None, 155, 256)     5239808     ['input_2[0][0]']                \n",
      "                                                                                                  \n",
      " dropout (Dropout)              (None, 2048)         0           ['input_1[0][0]']                \n",
      "                                                                                                  \n",
      " dropout_1 (Dropout)            (None, 155, 256)     0           ['embedding[0][0]']              \n",
      "                                                                                                  \n",
      " dense (Dense)                  (None, 256)          524544      ['dropout[0][0]']                \n",
      "                                                                                                  \n",
      " lstm (LSTM)                    (None, 256)          525312      ['dropout_1[0][0]']              \n",
      "                                                                                                  \n",
      " add (Add)                      (None, 256)          0           ['dense[0][0]',                  \n",
      "                                                                  'lstm[0][0]']                   \n",
      "                                                                                                  \n",
      " dense_1 (Dense)                (None, 256)          65792       ['add[0][0]']                    \n",
      "                                                                                                  \n",
      " dense_2 (Dense)                (None, 20468)        5260276     ['dense_1[0][0]']                \n",
      "                                                                                                  \n",
      "==================================================================================================\n",
      "Total params: 11,615,732\n",
      "Trainable params: 11,615,732\n",
      "Non-trainable params: 0\n",
      "__________________________________________________________________________________________________\n",
      "None\n",
      "You must install pydot (`pip install pydot`) and install graphviz (see instructions at https://graphviz.gitlab.io/download/) for plot_model/model_to_dot to work.\n"
     ]
    }
   ],
   "source": [
    "# TRAIN IT, FINALLY\n",
    "\n",
    "print(f'The training dataset has {len(all_img_names)} images in it.')\n",
    "print(f'There are {len(all_descriptions)} associated captions; 5 for each image.')\n",
    "print(f'{len(all_features)} features were extracted.')\n",
    "print(f'There are {lex_count} unique words.')\n",
    "print(f'The longest caption is {longest_caption} characters long.')\n",
    "\n",
    "model = setup(lex_count, longest_caption)\n",
    "epochs = 30\n",
    "steps = (len(all_descriptions))*0.2"
   ]
  },
  {
   "cell_type": "code",
   "execution_count": null,
   "metadata": {
    "colab": {
     "base_uri": "https://localhost:8080/",
     "height": 380
    },
    "executionInfo": {
     "elapsed": 109399,
     "status": "error",
     "timestamp": 1650290799349,
     "user": {
      "displayName": "Matt Edrich",
      "userId": "05115134804914636834"
     },
     "user_tz": 360
    },
    "id": "HADnsTHtWAZG",
    "outputId": "749b48b6-0932-4079-fcb9-ad1bad046201"
   },
   "outputs": [
    {
     "name": "stdout",
     "output_type": "stream",
     "text": [
      "6235/6235 [==============================] - 3214s 515ms/step - loss: 4.2926 - accuracy: 0.3469\n",
      "6235/6235 [==============================] - 3144s 504ms/step - loss: 3.4822 - accuracy: 0.4019\n",
      "6235/6235 [==============================] - 3181s 510ms/step - loss: 3.2132 - accuracy: 0.4170\n",
      "6235/6235 [==============================] - 3212s 515ms/step - loss: 3.0391 - accuracy: 0.4272\n",
      "6235/6235 [==============================] - 3392s 544ms/step - loss: 2.9138 - accuracy: 0.4340\n",
      "2443/6235 [==========>...................] - ETA: 31:24 - loss: 2.8094 - accuracy: 0.4381"
     ]
    }
   ],
   "source": [
    "#os.mkdir('models')\n",
    "for i in range(20,epochs):\n",
    "    generator = data_generator(all_descriptions, all_features, tokens, longest_caption)\n",
    "    model.fit(generator, epochs=1, steps_per_epoch=steps, verbose=1)\n",
    "    model.save('models/model_' + str(i) + '.h5')"
   ]
  },
  {
   "cell_type": "code",
   "execution_count": null,
   "metadata": {
    "id": "AoDvHqrH-QmA"
   },
   "outputs": [],
   "source": []
  }
 ],
 "metadata": {
  "accelerator": "GPU",
  "colab": {
   "authorship_tag": "ABX9TyN6aDRZvcuo6W2KtUtbTqvF",
   "collapsed_sections": [],
   "name": "feature_extraction2.ipynb",
   "provenance": []
  },
  "kernelspec": {
   "display_name": "Python 3 (ipykernel)",
   "language": "python",
   "name": "python3"
  },
  "language_info": {
   "codemirror_mode": {
    "name": "ipython",
    "version": 3
   },
   "file_extension": ".py",
   "mimetype": "text/x-python",
   "name": "python",
   "nbconvert_exporter": "python",
   "pygments_lexer": "ipython3",
   "version": "3.8.11"
  },
  "widgets": {
   "application/vnd.jupyter.widget-state+json": {
    "02b99046aa474647890998ad76bba1fa": {
     "model_module": "@jupyter-widgets/controls",
     "model_module_version": "1.5.0",
     "model_name": "DescriptionStyleModel",
     "state": {
      "_model_module": "@jupyter-widgets/controls",
      "_model_module_version": "1.5.0",
      "_model_name": "DescriptionStyleModel",
      "_view_count": null,
      "_view_module": "@jupyter-widgets/base",
      "_view_module_version": "1.2.0",
      "_view_name": "StyleView",
      "description_width": ""
     }
    },
    "12d4951db7ff446a815157b318f95ae5": {
     "model_module": "@jupyter-widgets/base",
     "model_module_version": "1.2.0",
     "model_name": "LayoutModel",
     "state": {
      "_model_module": "@jupyter-widgets/base",
      "_model_module_version": "1.2.0",
      "_model_name": "LayoutModel",
      "_view_count": null,
      "_view_module": "@jupyter-widgets/base",
      "_view_module_version": "1.2.0",
      "_view_name": "LayoutView",
      "align_content": null,
      "align_items": null,
      "align_self": null,
      "border": null,
      "bottom": null,
      "display": null,
      "flex": null,
      "flex_flow": null,
      "grid_area": null,
      "grid_auto_columns": null,
      "grid_auto_flow": null,
      "grid_auto_rows": null,
      "grid_column": null,
      "grid_gap": null,
      "grid_row": null,
      "grid_template_areas": null,
      "grid_template_columns": null,
      "grid_template_rows": null,
      "height": null,
      "justify_content": null,
      "justify_items": null,
      "left": null,
      "margin": null,
      "max_height": null,
      "max_width": null,
      "min_height": null,
      "min_width": null,
      "object_fit": null,
      "object_position": null,
      "order": null,
      "overflow": null,
      "overflow_x": null,
      "overflow_y": null,
      "padding": null,
      "right": null,
      "top": null,
      "visibility": null,
      "width": null
     }
    },
    "25a823974281434c9bf302e03c64a902": {
     "model_module": "@jupyter-widgets/base",
     "model_module_version": "1.2.0",
     "model_name": "LayoutModel",
     "state": {
      "_model_module": "@jupyter-widgets/base",
      "_model_module_version": "1.2.0",
      "_model_name": "LayoutModel",
      "_view_count": null,
      "_view_module": "@jupyter-widgets/base",
      "_view_module_version": "1.2.0",
      "_view_name": "LayoutView",
      "align_content": null,
      "align_items": null,
      "align_self": null,
      "border": null,
      "bottom": null,
      "display": null,
      "flex": null,
      "flex_flow": null,
      "grid_area": null,
      "grid_auto_columns": null,
      "grid_auto_flow": null,
      "grid_auto_rows": null,
      "grid_column": null,
      "grid_gap": null,
      "grid_row": null,
      "grid_template_areas": null,
      "grid_template_columns": null,
      "grid_template_rows": null,
      "height": null,
      "justify_content": null,
      "justify_items": null,
      "left": null,
      "margin": null,
      "max_height": null,
      "max_width": null,
      "min_height": null,
      "min_width": null,
      "object_fit": null,
      "object_position": null,
      "order": null,
      "overflow": null,
      "overflow_x": null,
      "overflow_y": null,
      "padding": null,
      "right": null,
      "top": null,
      "visibility": null,
      "width": null
     }
    },
    "2d871dad0ca942e39da0305a95df3a99": {
     "model_module": "@jupyter-widgets/controls",
     "model_module_version": "1.5.0",
     "model_name": "DescriptionStyleModel",
     "state": {
      "_model_module": "@jupyter-widgets/controls",
      "_model_module_version": "1.5.0",
      "_model_name": "DescriptionStyleModel",
      "_view_count": null,
      "_view_module": "@jupyter-widgets/base",
      "_view_module_version": "1.2.0",
      "_view_name": "StyleView",
      "description_width": ""
     }
    },
    "3edfd257625b45a298209159844e1e57": {
     "model_module": "@jupyter-widgets/controls",
     "model_module_version": "1.5.0",
     "model_name": "HBoxModel",
     "state": {
      "_dom_classes": [],
      "_model_module": "@jupyter-widgets/controls",
      "_model_module_version": "1.5.0",
      "_model_name": "HBoxModel",
      "_view_count": null,
      "_view_module": "@jupyter-widgets/controls",
      "_view_module_version": "1.5.0",
      "_view_name": "HBoxView",
      "box_style": "",
      "children": [
       "IPY_MODEL_7663b7dfcbc34960adfc5faa041a1a74",
       "IPY_MODEL_a7770e4c47e74ce3948f068a731be387",
       "IPY_MODEL_aad7329d7dbc49a89f4cb3798c30666a"
      ],
      "layout": "IPY_MODEL_a7ff3f0d0d5d41c4a272a7f9a07962a5"
     }
    },
    "7663b7dfcbc34960adfc5faa041a1a74": {
     "model_module": "@jupyter-widgets/controls",
     "model_module_version": "1.5.0",
     "model_name": "HTMLModel",
     "state": {
      "_dom_classes": [],
      "_model_module": "@jupyter-widgets/controls",
      "_model_module_version": "1.5.0",
      "_model_name": "HTMLModel",
      "_view_count": null,
      "_view_module": "@jupyter-widgets/controls",
      "_view_module_version": "1.5.0",
      "_view_name": "HTMLView",
      "description": "",
      "description_tooltip": null,
      "layout": "IPY_MODEL_25a823974281434c9bf302e03c64a902",
      "placeholder": "​",
      "style": "IPY_MODEL_2d871dad0ca942e39da0305a95df3a99",
      "value": ""
     }
    },
    "7d7cb34fd03e4cd39eb434a9dfb2c2f5": {
     "model_module": "@jupyter-widgets/controls",
     "model_module_version": "1.5.0",
     "model_name": "ProgressStyleModel",
     "state": {
      "_model_module": "@jupyter-widgets/controls",
      "_model_module_version": "1.5.0",
      "_model_name": "ProgressStyleModel",
      "_view_count": null,
      "_view_module": "@jupyter-widgets/base",
      "_view_module_version": "1.2.0",
      "_view_name": "StyleView",
      "bar_color": null,
      "description_width": ""
     }
    },
    "a7770e4c47e74ce3948f068a731be387": {
     "model_module": "@jupyter-widgets/controls",
     "model_module_version": "1.5.0",
     "model_name": "FloatProgressModel",
     "state": {
      "_dom_classes": [],
      "_model_module": "@jupyter-widgets/controls",
      "_model_module_version": "1.5.0",
      "_model_name": "FloatProgressModel",
      "_view_count": null,
      "_view_module": "@jupyter-widgets/controls",
      "_view_module_version": "1.5.0",
      "_view_name": "ProgressView",
      "bar_style": "success",
      "description": "",
      "description_tooltip": null,
      "layout": "IPY_MODEL_fad6bacdb90849419356155f5d4d5772",
      "max": 1,
      "min": 0,
      "orientation": "horizontal",
      "style": "IPY_MODEL_7d7cb34fd03e4cd39eb434a9dfb2c2f5",
      "value": 0
     }
    },
    "a7ff3f0d0d5d41c4a272a7f9a07962a5": {
     "model_module": "@jupyter-widgets/base",
     "model_module_version": "1.2.0",
     "model_name": "LayoutModel",
     "state": {
      "_model_module": "@jupyter-widgets/base",
      "_model_module_version": "1.2.0",
      "_model_name": "LayoutModel",
      "_view_count": null,
      "_view_module": "@jupyter-widgets/base",
      "_view_module_version": "1.2.0",
      "_view_name": "LayoutView",
      "align_content": null,
      "align_items": null,
      "align_self": null,
      "border": null,
      "bottom": null,
      "display": null,
      "flex": null,
      "flex_flow": null,
      "grid_area": null,
      "grid_auto_columns": null,
      "grid_auto_flow": null,
      "grid_auto_rows": null,
      "grid_column": null,
      "grid_gap": null,
      "grid_row": null,
      "grid_template_areas": null,
      "grid_template_columns": null,
      "grid_template_rows": null,
      "height": null,
      "justify_content": null,
      "justify_items": null,
      "left": null,
      "margin": null,
      "max_height": null,
      "max_width": null,
      "min_height": null,
      "min_width": null,
      "object_fit": null,
      "object_position": null,
      "order": null,
      "overflow": null,
      "overflow_x": null,
      "overflow_y": null,
      "padding": null,
      "right": null,
      "top": null,
      "visibility": null,
      "width": null
     }
    },
    "aad7329d7dbc49a89f4cb3798c30666a": {
     "model_module": "@jupyter-widgets/controls",
     "model_module_version": "1.5.0",
     "model_name": "HTMLModel",
     "state": {
      "_dom_classes": [],
      "_model_module": "@jupyter-widgets/controls",
      "_model_module_version": "1.5.0",
      "_model_name": "HTMLModel",
      "_view_count": null,
      "_view_module": "@jupyter-widgets/controls",
      "_view_module_version": "1.5.0",
      "_view_name": "HTMLView",
      "description": "",
      "description_tooltip": null,
      "layout": "IPY_MODEL_12d4951db7ff446a815157b318f95ae5",
      "placeholder": "​",
      "style": "IPY_MODEL_02b99046aa474647890998ad76bba1fa",
      "value": " 0/? [00:00&lt;?, ?it/s]"
     }
    },
    "fad6bacdb90849419356155f5d4d5772": {
     "model_module": "@jupyter-widgets/base",
     "model_module_version": "1.2.0",
     "model_name": "LayoutModel",
     "state": {
      "_model_module": "@jupyter-widgets/base",
      "_model_module_version": "1.2.0",
      "_model_name": "LayoutModel",
      "_view_count": null,
      "_view_module": "@jupyter-widgets/base",
      "_view_module_version": "1.2.0",
      "_view_name": "LayoutView",
      "align_content": null,
      "align_items": null,
      "align_self": null,
      "border": null,
      "bottom": null,
      "display": null,
      "flex": null,
      "flex_flow": null,
      "grid_area": null,
      "grid_auto_columns": null,
      "grid_auto_flow": null,
      "grid_auto_rows": null,
      "grid_column": null,
      "grid_gap": null,
      "grid_row": null,
      "grid_template_areas": null,
      "grid_template_columns": null,
      "grid_template_rows": null,
      "height": null,
      "justify_content": null,
      "justify_items": null,
      "left": null,
      "margin": null,
      "max_height": null,
      "max_width": null,
      "min_height": null,
      "min_width": null,
      "object_fit": null,
      "object_position": null,
      "order": null,
      "overflow": null,
      "overflow_x": null,
      "overflow_y": null,
      "padding": null,
      "right": null,
      "top": null,
      "visibility": null,
      "width": "20px"
     }
    }
   }
  }
 },
 "nbformat": 4,
 "nbformat_minor": 4
}
